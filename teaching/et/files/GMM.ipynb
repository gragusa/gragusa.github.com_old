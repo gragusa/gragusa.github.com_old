{
 "cells": [
  {
   "cell_type": "markdown",
   "metadata": {},
   "source": [
    "# Notebook requirements\n",
    "This notebook requires the following packages that are registered on `METADATA`, that is, you can install them by `Pkg.add`. The `Optim` package that is registered is quite old, and I suggest you to use the development version that can be installed by `Pkg.checkout(\"Optim\")`. "
   ]
  },
  {
   "cell_type": "code",
   "execution_count": 10,
   "metadata": {
    "collapsed": true
   },
   "outputs": [],
   "source": [
    "using DataFrames, Optim,  Plots"
   ]
  },
  {
   "cell_type": "markdown",
   "metadata": {},
   "source": [
    "For the last part, I use I package I am writing called `MomentBasedEstimators`. This package is not yet registered on `METADATA` and you have to install it yourself. Here is what do you need to do "
   ]
  },
  {
   "cell_type": "code",
   "execution_count": null,
   "metadata": {
    "collapsed": true
   },
   "outputs": [],
   "source": [
    "Pkg.clone(\"https://github.com/gragusa/Divergences.jl.git\")\n",
    "Pkg.clone(\"https://github.com/gragusa/MomentBasedEstimators.jl.git\")"
   ]
  },
  {
   "cell_type": "markdown",
   "metadata": {},
   "source": [
    "# Generalized method of moments (GMM)\n",
    "\n",
    "Econometric models are often postulated in terms of moment restrictions:\n",
    "\n",
    "$$\n",
    "\\int h(w,\\theta_{0})F(dw)=0,\\\n",
    "$$\n",
    "\n",
    "where $w\\in\\mathcal{W}\\subseteq\\mathbb{R}^{L}$ is a random vector\n",
    "with unknown probability distribution $F$, and $h(w,\\theta)$ is\n",
    "an $M\\times1$ vector of functions of $w$ and the parameter $\\theta\\in\\Theta\\subset\\mathbb{R}^{K}$,\n",
    "$h:\\mathcal{W}\\times\\Theta\\mapsto\\mathbb{R}^{M}$. \n",
    "\n",
    "Given a random sample from $w$, $(w_{1},\\ldots,w_{T})$, the objective is to estimate\n",
    "$\\theta_{0}$. Simultaneous systems of equations, dynamic panel data,\n",
    "and many other models frequently employed in econometrics have a formulation\n",
    "equivalent to \\prettyref{eq:momcon}.\n",
    "\n",
    "The traditional way of estimating $\\theta_{0}$ is by the Generalized\n",
    "Method of Moments (GMM) of \\citet{Hansen82}.\n",
    "\n",
    "\n",
    "\n",
    "# Consumption Asset Pricing Model\n",
    "\n",
    "Equations similar to (1) emerges from the first-order conditions of a representative agent's utility maximization problem in an uncertain environment. \n",
    "\n",
    "Suppose that a rapresentative consumer chooses stochastic consumption and investment plans so as to maximize\n",
    "$$\n",
    "E_0 \\left[ \\sum_{t=0}^{\\infty} \\beta^t U(C_t) \\right]\n",
    "$$\n",
    "where $C_t$ is consumption in time perios $t$, $\\beta\\in(0,1)$ is a discount factor, and $U(\\cdot)$ is a strictly concave function. Further, siuppose that the consumer has the choice in investing in asset with maturities $M$. Let $Q_{t}$ denote the quantity of asset held at the end of date $t$, $P_t$ the price of the assset at date $t$, $R_t$ the payoff from holding a unit of the $M$-period asset purchased ad date $t-M$, and $W_t$ (real) labor income at date $t$ .\n",
    "\n",
    "The feasible consumption and investment plans must satisfy the sequence of budget constraints\n",
    "$$\n",
    "C_t + P_tQ_t \\leq R_t Q_{t-M} + W_t.\n",
    "$$\n",
    "The maximization of utility subject to this constraint gives first order necessary conditions:\n",
    "$$\n",
    "P_t U'(C_t) = \\beta^{M} E_t[R_{t+M} U'(C_{t+M})].\n",
    "$$\n",
    "Suppose the econometrician has observations on $P_j$ and $R_j$ for the asset with maturity $M=1$ and on consumption $C$. Since $C_t$ and $P_t$ are known to the agent at time $t$\n",
    "$$\n",
    "E_t \\left[ \\beta\\frac{U'(C_{t+1})}{U'(C_{t}}(1 + r_{t+1}) - 1 \\right],\n",
    "$$\n",
    "where $r_{t}$ is net return on the asset, $r_t = R_t/P_t-1$. \n",
    "\n",
    "Additionally, assume that preferences are of the constant relative risk averse type,\n",
    "$$\n",
    "U(C) = \\frac{(C)^\\gamma}{\\gamma}, \\,\\, \\gamma < 1\n",
    "$$\n",
    "In this case, the marginal utility is\n",
    "$$\n",
    "U'(C) = C^{\\gamma-1},\n",
    "$$\n",
    "\n",
    "Then the first order condition is \n",
    "$$\n",
    "E_{t}\\left[\\beta\\left(\\frac{C_{t+1}}{C_{t}}\\right)^{\\gamma-1}(1+r_{t+1})-1\\right]=0\n",
    "$$\n",
    "\n",
    "Let $Z_t$ denote a $m$ dimension vector of variables that are in the agents' information set. Then we have that\n",
    "$$\n",
    "E\\left[Z_{t}\\left(\\beta\\left(\\frac{C_{t+1}}{C_{t}}\\right)^{\\gamma-1}(1+r_{t+1})-1\\right)\\right]=0.\n",
    "$$\n",
    "\n",
    "The moment condition is thus of the form\n",
    "$$\n",
    "\\int h(w_t,\\theta_{0})F(dw_t)=0,\\\n",
    "$$\n",
    "where, $w = (c_t, r_t)$, $\\theta = (\\beta, \\gamma)$, and\n",
    "$$\n",
    "h(w_t, \\theta) = Z_{t-1}\\left(\\beta\\left(\\frac{C_{t}}{C_{t-1}}\\right)^{\\gamma-1}(1+r_{t})-1\\right).\n",
    "$$\n",
    "\n",
    "# GMM estimator\n",
    "\n",
    "Given the moment function $h$, the GMM estimator is defined as the minimizer of the objective function $J(\\theta, \\mathbf{W})$, or, more precisely, as\n",
    "\n",
    "$$\n",
    "\\hat{\\theta}^{gmm}=\\arg\\min_{\\theta\\in\\Theta}J(\\theta, \\mathbf{W}), \\quad J(\\theta, \\mathbf{W}) = T\\left(\\frac{1}{T}\\sum_{t=1}^{T}h(w_{t},\\theta)\\right)'\\mathbf{W}\\left(\\frac{1}{T}\\sum_{t=1}^{T}h(w_{t},\\theta)\\right)\n",
    "$$\n",
    "\n",
    "where $\\mathbf{W}$ is any positive definite matrix $\\mathbf{W}\\in\\mathbb{R}^{m\\times m}$. The function $J(\\theta, \\mathbf{W})$ is commonly referred to as the GMM objective function. depends on the weighting function $\\mathbf{W}$\n",
    "\n",
    "- If $h$ is linear the solution can be obtained by solving the first order conditions \n",
    "- If $h$ is non-linear a numerical solver must be used \n",
    "\n",
    "\n",
    "We apply this estimator to real data. The data consist of quarterly observations on macro variables and data on stock market and bond returns. Data start in 1951:Q1 and end in 2001:Q4. \n"
   ]
  },
  {
   "cell_type": "code",
   "execution_count": 5,
   "metadata": {
    "collapsed": false
   },
   "outputs": [],
   "source": [
    "Quarterly = readtable(\"Quarterly.txt\", header = false, separator =' ');\n",
    "Returns = readtable(\"tbill.txt\", header = false, separator =' ');"
   ]
  },
  {
   "cell_type": "code",
   "execution_count": 6,
   "metadata": {
    "collapsed": false
   },
   "outputs": [],
   "source": [
    "## log(C_t) - log(C_{t-1})\n",
    "ΔC  = convert(Array, Quarterly[:x4]);       \n",
    "## Real stock market return (1+r_{t})\n",
    "R  = convert(Array, (1 + Returns[:x4])./Quarterly[:x14]); \n",
    "Rf = convert(Array, (1 + Returns[:x3])./Quarterly[:x14]); "
   ]
  },
  {
   "cell_type": "code",
   "execution_count": 12,
   "metadata": {
    "collapsed": false
   },
   "outputs": [
    {
     "name": "stdout",
     "output_type": "stream",
     "text": [
      "[Plots.jl] Initializing backend: gadfly\n"
     ]
    },
    {
     "data": {
      "image/svg+xml": [
       "<?xml version=\"1.0\" encoding=\"UTF-8\"?>\n",
       "<svg xmlns=\"http://www.w3.org/2000/svg\"\n",
       "     xmlns:xlink=\"http://www.w3.org/1999/xlink\"\n",
       "     xmlns:gadfly=\"http://www.gadflyjl.org/ns\"\n",
       "     version=\"1.2\"\n",
       "     width=\"158.73mm\" height=\"105.82mm\" viewBox=\"0 0 158.73 105.82\"\n",
       "     stroke=\"none\"\n",
       "     fill=\"#000000\"\n",
       "     stroke-width=\"0.3\"\n",
       "     font-size=\"3.88\"\n",
       ">\n",
       "<g stroke=\"#000000\" stroke-opacity=\"0.000\" fill=\"#FFFFFF\" id=\"img-19f490c1-1\">\n",
       "  <rect x=\"79.37\" y=\"0\" width=\"79.37\" height=\"105.82\"/>\n",
       "</g>\n",
       "<g class=\"plotroot xscalable yscalable\" id=\"img-19f490c1-2\">\n",
       "  <g class=\"guide colorkey\" id=\"img-19f490c1-3\">\n",
       "    <g fill=\"#000000\" font-size=\"2.82\" font-family=\"Helvetica\" id=\"img-19f490c1-4\">\n",
       "      <text x=\"90.1\" y=\"101.01\" dy=\"0.35em\">Monthly return on ssi</text>\n",
       "    </g>\n",
       "    <g fill=\"#009AFA\" stroke=\"#000000\" stroke-opacity=\"0.000\" id=\"img-19f490c1-5\">\n",
       "      <rect x=\"87.29\" y=\"100.1\" width=\"1.82\" height=\"1.82\"/>\n",
       "    </g>\n",
       "    <g fill=\"#000000\" font-size=\"3.88\" font-family=\"Helvetica\" stroke=\"#000000\" stroke-opacity=\"0.000\" id=\"img-19f490c1-6\">\n",
       "      <text x=\"87.29\" y=\"97.19\"></text>\n",
       "    </g>\n",
       "  </g>\n",
       "  <g class=\"guide xlabels\" font-size=\"2.82\" font-family=\"Helvetica\" fill=\"#000000\" id=\"img-19f490c1-7\">\n",
       "    <text x=\"88.29\" y=\"89.93\" text-anchor=\"middle\" dy=\"0.6em\">0</text>\n",
       "    <text x=\"101.77\" y=\"89.93\" text-anchor=\"middle\" dy=\"0.6em\">50</text>\n",
       "    <text x=\"115.26\" y=\"89.93\" text-anchor=\"middle\" dy=\"0.6em\">100</text>\n",
       "    <text x=\"128.75\" y=\"89.93\" text-anchor=\"middle\" dy=\"0.6em\">150</text>\n",
       "    <text x=\"142.24\" y=\"89.93\" text-anchor=\"middle\" dy=\"0.6em\">200</text>\n",
       "    <text x=\"155.73\" y=\"89.93\" text-anchor=\"middle\" dy=\"0.6em\">250</text>\n",
       "  </g>\n",
       "<g clip-path=\"url(#img-19f490c1-8)\">\n",
       "  <g id=\"img-19f490c1-9\">\n",
       "    <g pointer-events=\"visible\" opacity=\"1\" fill=\"#000000\" fill-opacity=\"0.000\" stroke=\"#000000\" stroke-opacity=\"0.000\" class=\"guide background\" id=\"img-19f490c1-10\">\n",
       "      <rect x=\"86.29\" y=\"1\" width=\"71.45\" height=\"87.93\"/>\n",
       "    </g>\n",
       "    <g class=\"guide ygridlines xfixed\" stroke-dasharray=\"0.5,0.5\" stroke-width=\"0.2\" stroke=\"#D0D0E0\" id=\"img-19f490c1-11\">\n",
       "      <path fill=\"none\" d=\"M86.29,86.93 L 157.73 86.93\"/>\n",
       "      <path fill=\"none\" d=\"M86.29,72.94 L 157.73 72.94\"/>\n",
       "      <path fill=\"none\" d=\"M86.29,58.96 L 157.73 58.96\"/>\n",
       "      <path fill=\"none\" d=\"M86.29,44.97 L 157.73 44.97\"/>\n",
       "      <path fill=\"none\" d=\"M86.29,30.98 L 157.73 30.98\"/>\n",
       "      <path fill=\"none\" d=\"M86.29,16.99 L 157.73 16.99\"/>\n",
       "      <path fill=\"none\" d=\"M86.29,3 L 157.73 3\"/>\n",
       "    </g>\n",
       "    <g class=\"guide xgridlines yfixed\" stroke-dasharray=\"0.5,0.5\" stroke-width=\"0.2\" stroke=\"#D0D0E0\" id=\"img-19f490c1-12\">\n",
       "      <path fill=\"none\" d=\"M88.29,1 L 88.29 88.93\"/>\n",
       "      <path fill=\"none\" d=\"M101.77,1 L 101.77 88.93\"/>\n",
       "      <path fill=\"none\" d=\"M115.26,1 L 115.26 88.93\"/>\n",
       "      <path fill=\"none\" d=\"M128.75,1 L 128.75 88.93\"/>\n",
       "      <path fill=\"none\" d=\"M142.24,1 L 142.24 88.93\"/>\n",
       "      <path fill=\"none\" d=\"M155.73,1 L 155.73 88.93\"/>\n",
       "    </g>\n",
       "    <g class=\"plotpanel\" id=\"img-19f490c1-13\">\n",
       "      <g stroke-width=\"0.26\" fill=\"#000000\" fill-opacity=\"0.000\" class=\"geometry\" stroke-dasharray=\"none\" stroke=\"#009AFA\" id=\"img-19f490c1-14\">\n",
       "        <path fill=\"none\" d=\"M88.55,39.13 L 88.82 44.84 89.09 28.81 89.36 43.09 89.63 39.87 89.9 42.84 90.17 47.89 90.44 33.06 90.71 47.44 90.98 51.16 91.25 47.81 91.52 34.85 91.79 30.16 92.06 32.61 92.33 31.69 92.6 26.23 92.87 39.54 93.14 29.47 93.41 42.18 93.68 37.05 93.95 35.16 94.22 47.53 94.49 50 94.76 39.81 95.03 49.52 95.3 35.48 95.57 59.23 95.84 54.22 96.11 35.78 96.38 32.96 96.65 28.59 96.92 29.72 97.19 42.03 97.46 37.77 97.73 49.32 98 36.54 98.27 54.91 98.54 39.91 98.81 52.85 99.08 32.2 99.35 25.62 99.62 45.13 99.89 40.06 100.16 35.16 100.43 48.69 100.69 75.09 100.96 40.67 101.23 27.86 101.5 36.43 101.77 38.97 102.04 40.26 102.31 39.45 102.58 36.6 102.85 40.19 103.12 40.19 103.39 43.3 103.66 41.01 103.93 49.1 104.2 34.02 104.47 39.92 104.74 48.68 105.01 51.55 105.28 59.28 105.55 36.14 105.82 25.51 106.09 42.54 106.36 35.26 106.63 44.6 106.9 55.29 107.17 27.49 107.44 41.15 107.71 41.97 107.98 51.25 108.25 52.99 108.52 52.2 108.79 46.56 109.06 50.19 109.33 74.88 109.6 21.54 109.87 33.05 110.14 30.38 110.41 46.83 110.68 46.78 110.95 40.31 111.22 35.88 111.49 46.18 111.76 43.16 112.03 37.2 112.3 58.26 112.57 58.3 112.84 37.85 113.1 64.13 113.37 51.53 113.64 61.93 113.91 81.8 114.18 35.43 114.45 12.73 114.72 25.48 114.99 63.18 115.26 35.18 115.53 23.21 115.8 43.62 116.07 44.91 116.34 41.78 116.61 56.41 116.88 41.28 117.15 50.75 117.42 46.08 117.69 53.19 117.96 34.89 118.23 34.76 118.5 56.4 118.77 37.18 119.04 43.14 119.31 37.48 119.58 47.49 119.85 56.07 120.12 27.49 120.39 31.73 120.66 36.41 120.93 44.82 121.2 49.07 121.47 62.82 121.74 36.15 122.01 57.9 122.28 48.57 122.55 30.48 122.82 19.89 123.09 32.54 123.36 29.34 123.63 46.61 123.9 46.96 124.17 50.22 124.44 49.66 124.71 32.83 124.98 44.37 125.24 32.79 125.51 35.99 125.78 52.51 126.05 22.6 126.32 24.92 126.59 38.62 126.86 55.27 127.13 41.07 127.4 17.94 127.67 41.15 127.94 37.86 128.21 77.6 128.48 36.62 128.75 37.91 129.02 46.01 129.29 42.91 129.56 37.56 129.83 33.86 130.1 32.44 130.37 45.49 130.64 51.31 130.91 39.97 131.18 66.01 131.45 34.35 131.72 25.67 131.99 46.03 132.26 38.48 132.53 35.05 132.8 48.61 133.07 44.24 133.34 41.85 133.61 37.94 133.88 39.1 134.15 44.43 134.42 41.4 134.69 42.42 134.96 51.11 135.23 46.37 135.5 38.62 135.77 47.17 136.04 33.43 136.31 34.12 136.58 34.05 136.85 38.33 137.12 37.97 137.39 40.41 137.65 42.27 137.92 35.91 138.19 43.08 138.46 22.83 138.73 34.11 139 40.87 139.27 27.79 139.54 43.52 139.81 63.41 140.08 18.62 140.35 43.67 140.62 35.24 140.89 57.59 141.16 32.21 141.43 44.67 141.7 46.84 141.97 40.06 142.24 47.49 142.51 58.6 142.78 37.83 143.05 61.97 143.32 32.77\"/>\n",
       "      </g>\n",
       "    </g>\n",
       "  </g>\n",
       "</g>\n",
       "  <g class=\"guide ylabels\" font-size=\"2.82\" font-family=\"Helvetica\" fill=\"#000000\" id=\"img-19f490c1-15\">\n",
       "    <text x=\"85.29\" y=\"86.93\" text-anchor=\"end\" dy=\"0.35em\">0.7</text>\n",
       "    <text x=\"85.29\" y=\"72.94\" text-anchor=\"end\" dy=\"0.35em\">0.8</text>\n",
       "    <text x=\"85.29\" y=\"58.96\" text-anchor=\"end\" dy=\"0.35em\">0.9</text>\n",
       "    <text x=\"85.29\" y=\"44.97\" text-anchor=\"end\" dy=\"0.35em\">1.0</text>\n",
       "    <text x=\"85.29\" y=\"30.98\" text-anchor=\"end\" dy=\"0.35em\">1.1</text>\n",
       "    <text x=\"85.29\" y=\"16.99\" text-anchor=\"end\" dy=\"0.35em\">1.2</text>\n",
       "    <text x=\"85.29\" y=\"3\" text-anchor=\"end\" dy=\"0.35em\">1.3</text>\n",
       "  </g>\n",
       "</g>\n",
       "<g stroke=\"#000000\" stroke-opacity=\"0.000\" fill=\"#FFFFFF\" id=\"img-19f490c1-16\">\n",
       "  <rect x=\"0\" y=\"0\" width=\"79.37\" height=\"105.82\"/>\n",
       "</g>\n",
       "<g class=\"plotroot xscalable yscalable\" id=\"img-19f490c1-17\">\n",
       "  <g class=\"guide colorkey\" id=\"img-19f490c1-18\">\n",
       "    <g fill=\"#000000\" font-size=\"2.82\" font-family=\"Helvetica\" id=\"img-19f490c1-19\">\n",
       "      <text x=\"13.24\" y=\"101.01\" dy=\"0.35em\">Consumption growth</text>\n",
       "    </g>\n",
       "    <g fill=\"#009AFA\" stroke=\"#000000\" stroke-opacity=\"0.000\" id=\"img-19f490c1-20\">\n",
       "      <rect x=\"10.43\" y=\"100.1\" width=\"1.82\" height=\"1.82\"/>\n",
       "    </g>\n",
       "    <g fill=\"#000000\" font-size=\"3.88\" font-family=\"Helvetica\" stroke=\"#000000\" stroke-opacity=\"0.000\" id=\"img-19f490c1-21\">\n",
       "      <text x=\"10.43\" y=\"97.19\"></text>\n",
       "    </g>\n",
       "  </g>\n",
       "  <g class=\"guide xlabels\" font-size=\"2.82\" font-family=\"Helvetica\" fill=\"#000000\" id=\"img-19f490c1-22\">\n",
       "    <text x=\"11.43\" y=\"89.93\" text-anchor=\"middle\" dy=\"0.6em\">0</text>\n",
       "    <text x=\"24.41\" y=\"89.93\" text-anchor=\"middle\" dy=\"0.6em\">50</text>\n",
       "    <text x=\"37.4\" y=\"89.93\" text-anchor=\"middle\" dy=\"0.6em\">100</text>\n",
       "    <text x=\"50.39\" y=\"89.93\" text-anchor=\"middle\" dy=\"0.6em\">150</text>\n",
       "    <text x=\"63.38\" y=\"89.93\" text-anchor=\"middle\" dy=\"0.6em\">200</text>\n",
       "    <text x=\"76.37\" y=\"89.93\" text-anchor=\"middle\" dy=\"0.6em\">250</text>\n",
       "  </g>\n",
       "<g clip-path=\"url(#img-19f490c1-23)\">\n",
       "  <g id=\"img-19f490c1-24\">\n",
       "    <g pointer-events=\"visible\" opacity=\"1\" fill=\"#000000\" fill-opacity=\"0.000\" stroke=\"#000000\" stroke-opacity=\"0.000\" class=\"guide background\" id=\"img-19f490c1-25\">\n",
       "      <rect x=\"9.43\" y=\"1\" width=\"68.94\" height=\"87.93\"/>\n",
       "    </g>\n",
       "    <g class=\"guide ygridlines xfixed\" stroke-dasharray=\"0.5,0.5\" stroke-width=\"0.2\" stroke=\"#D0D0E0\" id=\"img-19f490c1-26\">\n",
       "      <path fill=\"none\" d=\"M9.43,86.93 L 78.37 86.93\"/>\n",
       "      <path fill=\"none\" d=\"M9.43,70.15 L 78.37 70.15\"/>\n",
       "      <path fill=\"none\" d=\"M9.43,53.36 L 78.37 53.36\"/>\n",
       "      <path fill=\"none\" d=\"M9.43,36.57 L 78.37 36.57\"/>\n",
       "      <path fill=\"none\" d=\"M9.43,19.79 L 78.37 19.79\"/>\n",
       "      <path fill=\"none\" d=\"M9.43,3 L 78.37 3\"/>\n",
       "    </g>\n",
       "    <g class=\"guide xgridlines yfixed\" stroke-dasharray=\"0.5,0.5\" stroke-width=\"0.2\" stroke=\"#D0D0E0\" id=\"img-19f490c1-27\">\n",
       "      <path fill=\"none\" d=\"M11.43,1 L 11.43 88.93\"/>\n",
       "      <path fill=\"none\" d=\"M24.41,1 L 24.41 88.93\"/>\n",
       "      <path fill=\"none\" d=\"M37.4,1 L 37.4 88.93\"/>\n",
       "      <path fill=\"none\" d=\"M50.39,1 L 50.39 88.93\"/>\n",
       "      <path fill=\"none\" d=\"M63.38,1 L 63.38 88.93\"/>\n",
       "      <path fill=\"none\" d=\"M76.37,1 L 76.37 88.93\"/>\n",
       "    </g>\n",
       "    <g class=\"plotpanel\" id=\"img-19f490c1-28\">\n",
       "      <g stroke-width=\"0.26\" fill=\"#000000\" fill-opacity=\"0.000\" class=\"geometry\" stroke-dasharray=\"none\" stroke=\"#009AFA\" id=\"img-19f490c1-29\">\n",
       "        <path fill=\"none\" d=\"M11.69,69.65 L 11.95 30.67 12.21 46.33 12.47 58.98 12.73 24.36 12.99 34.13 13.24 36.35 13.5 43.74 13.76 44.74 14.02 64.82 14.28 63.19 14.54 45.39 14.8 51.42 15.06 37.03 15.32 36.14 15.58 42.74 15.84 36.31 16.1 47.03 16.36 26.86 16.62 42.76 16.88 56.5 17.14 53.05 17.4 44.45 17.66 53.42 17.92 50.56 18.18 41.92 18.44 57.97 18.7 71.19 18.96 41.77 19.22 33.1 19.48 44.86 19.74 38.82 20 40.11 20.26 46.43 20.52 45.08 20.78 58.27 21.04 40.27 21.3 67.04 21.56 53.26 21.82 46.9 22.08 36.29 22.34 56.88 22.6 33.75 22.86 44.59 23.12 43.51 23.38 45.87 23.64 46.18 23.89 50.81 24.15 46.75 24.41 38.2 24.67 50.19 24.93 29.9 25.19 30.04 25.45 31.71 25.71 45.46 25.97 40.81 26.23 37.56 26.49 34.83 26.75 13.81 27.01 42.74 27.27 40.83 27.53 45.72 27.79 52.42 28.05 41.21 28.31 43.86 28.57 47.23 28.83 47.19 29.09 27.49 29.35 32.69 29.61 33.4 29.87 48.44 30.13 40.92 30.39 44.26 30.65 50.28 30.91 42.62 31.17 40.6 31.43 51.98 31.69 43.21 31.95 45.57 32.21 48.03 32.47 46.86 32.73 50.71 32.99 38.41 33.25 39.74 33.51 26.07 33.77 35.72 34.03 27.01 34.28 41.41 34.54 59.1 34.8 48.3 35.06 58.79 35.32 71.52 35.58 55.98 35.84 53.19 36.1 65.73 36.36 46.52 36.62 27.26 36.88 45.75 37.14 44.58 37.4 26.72 37.66 37.68 37.92 39.4 38.18 36.64 38.44 45 38.7 54.95 38.96 43.66 39.22 32.52 39.48 39.39 39.74 37.74 40 43.31 40.26 43.99 40.52 44.74 40.78 56.82 41.04 47.72 41.3 44.81 41.56 59.13 41.82 74.31 42.08 50.93 42.34 42.96 42.6 53.93 42.86 45.42 43.12 54.34 43.38 53.42 43.64 51.73 43.9 50.65 44.16 46.23 44.42 34.91 44.68 40.36 44.93 34.91 45.19 35.08 45.45 36.89 45.71 45.58 45.97 33.75 46.23 44.16 46.49 40.24 46.75 37.63 47.01 41.2 47.27 38.81 47.53 40.63 47.79 41.73 48.05 39.73 48.31 46.83 48.57 38.76 48.83 40.38 49.09 43.2 49.35 48.09 49.61 45.4 49.87 35.38 50.13 42.89 50.39 38.89 50.65 41.25 50.91 48.66 51.17 54.73 51.43 44.59 51.69 41.88 51.95 53 52.21 44.44 52.47 49.48 52.73 70.6 52.99 59.48 53.25 44.63 53.51 54.76 53.77 60.34 54.03 33.83 54.29 52.01 54.55 50.21 54.81 35.78 55.07 55.05 55.33 45.06 55.58 41.04 55.84 46.9 56.1 41.6 56.36 43.63 56.62 46.58 56.88 44.97 57.14 48.24 57.4 42.46 57.66 48.75 57.92 47.19 58.18 44.78 58.44 44.69 58.7 48.03 58.96 47.3 59.22 42.33 59.48 47.35 59.74 38.76 60 47.08 60.26 36.27 60.52 36.53 60.78 43.16 61.04 45.75 61.3 38.55 61.56 39.91 61.82 43.87 62.08 39.75 62.34 44.13 62.6 41.3 62.86 46.05 63.12 42.02 63.38 50.32 63.64 54.32 63.9 52.25 64.16 44.01 64.42 35.9\"/>\n",
       "      </g>\n",
       "    </g>\n",
       "  </g>\n",
       "</g>\n",
       "  <g class=\"guide ylabels\" font-size=\"2.82\" font-family=\"Helvetica\" fill=\"#000000\" id=\"img-19f490c1-30\">\n",
       "    <text x=\"8.43\" y=\"86.93\" text-anchor=\"end\" dy=\"0.35em\">-0.02</text>\n",
       "    <text x=\"8.43\" y=\"70.15\" text-anchor=\"end\" dy=\"0.35em\">-0.01</text>\n",
       "    <text x=\"8.43\" y=\"53.36\" text-anchor=\"end\" dy=\"0.35em\">0.00</text>\n",
       "    <text x=\"8.43\" y=\"36.57\" text-anchor=\"end\" dy=\"0.35em\">0.01</text>\n",
       "    <text x=\"8.43\" y=\"19.79\" text-anchor=\"end\" dy=\"0.35em\">0.02</text>\n",
       "    <text x=\"8.43\" y=\"3\" text-anchor=\"end\" dy=\"0.35em\">0.03</text>\n",
       "  </g>\n",
       "</g>\n",
       "<defs>\n",
       "  <clipPath id=\"img-19f490c1-23\">\n",
       "  <path d=\"M9.43,1 L 78.37 1 78.37 88.93 9.43 88.93\" />\n",
       "</clipPath>\n",
       "  <clipPath id=\"img-19f490c1-8\">\n",
       "  <path d=\"M86.29,1 L 157.73 1 157.73 88.93 86.29 88.93\" />\n",
       "</clipPath>\n",
       "</defs>\n",
       "</svg>\n"
      ],
      "text/html": [
       "<?xml version=\"1.0\" encoding=\"UTF-8\"?>\n",
       "<svg xmlns=\"http://www.w3.org/2000/svg\"\n",
       "     xmlns:xlink=\"http://www.w3.org/1999/xlink\"\n",
       "     xmlns:gadfly=\"http://www.gadflyjl.org/ns\"\n",
       "     version=\"1.2\"\n",
       "     width=\"158.73mm\" height=\"105.82mm\" viewBox=\"0 0 158.73 105.82\"\n",
       "     stroke=\"none\"\n",
       "     fill=\"#000000\"\n",
       "     stroke-width=\"0.3\"\n",
       "     font-size=\"3.88\"\n",
       ">\n",
       "<g stroke=\"#000000\" stroke-opacity=\"0.000\" fill=\"#FFFFFF\" id=\"img-19f490c1-1\">\n",
       "  <rect x=\"79.37\" y=\"0\" width=\"79.37\" height=\"105.82\"/>\n",
       "</g>\n",
       "<g class=\"plotroot xscalable yscalable\" id=\"img-19f490c1-2\">\n",
       "  <g class=\"guide colorkey\" id=\"img-19f490c1-3\">\n",
       "    <g fill=\"#000000\" font-size=\"2.82\" font-family=\"Helvetica\" id=\"img-19f490c1-4\">\n",
       "      <text x=\"90.1\" y=\"101.01\" dy=\"0.35em\">Monthly return on ssi</text>\n",
       "    </g>\n",
       "    <g fill=\"#009AFA\" stroke=\"#000000\" stroke-opacity=\"0.000\" id=\"img-19f490c1-5\">\n",
       "      <rect x=\"87.29\" y=\"100.1\" width=\"1.82\" height=\"1.82\"/>\n",
       "    </g>\n",
       "    <g fill=\"#000000\" font-size=\"3.88\" font-family=\"Helvetica\" stroke=\"#000000\" stroke-opacity=\"0.000\" id=\"img-19f490c1-6\">\n",
       "      <text x=\"87.29\" y=\"97.19\"></text>\n",
       "    </g>\n",
       "  </g>\n",
       "  <g class=\"guide xlabels\" font-size=\"2.82\" font-family=\"Helvetica\" fill=\"#000000\" id=\"img-19f490c1-7\">\n",
       "    <text x=\"88.29\" y=\"89.93\" text-anchor=\"middle\" dy=\"0.6em\">0</text>\n",
       "    <text x=\"101.77\" y=\"89.93\" text-anchor=\"middle\" dy=\"0.6em\">50</text>\n",
       "    <text x=\"115.26\" y=\"89.93\" text-anchor=\"middle\" dy=\"0.6em\">100</text>\n",
       "    <text x=\"128.75\" y=\"89.93\" text-anchor=\"middle\" dy=\"0.6em\">150</text>\n",
       "    <text x=\"142.24\" y=\"89.93\" text-anchor=\"middle\" dy=\"0.6em\">200</text>\n",
       "    <text x=\"155.73\" y=\"89.93\" text-anchor=\"middle\" dy=\"0.6em\">250</text>\n",
       "  </g>\n",
       "<g clip-path=\"url(#img-19f490c1-8)\">\n",
       "  <g id=\"img-19f490c1-9\">\n",
       "    <g pointer-events=\"visible\" opacity=\"1\" fill=\"#000000\" fill-opacity=\"0.000\" stroke=\"#000000\" stroke-opacity=\"0.000\" class=\"guide background\" id=\"img-19f490c1-10\">\n",
       "      <rect x=\"86.29\" y=\"1\" width=\"71.45\" height=\"87.93\"/>\n",
       "    </g>\n",
       "    <g class=\"guide ygridlines xfixed\" stroke-dasharray=\"0.5,0.5\" stroke-width=\"0.2\" stroke=\"#D0D0E0\" id=\"img-19f490c1-11\">\n",
       "      <path fill=\"none\" d=\"M86.29,86.93 L 157.73 86.93\"/>\n",
       "      <path fill=\"none\" d=\"M86.29,72.94 L 157.73 72.94\"/>\n",
       "      <path fill=\"none\" d=\"M86.29,58.96 L 157.73 58.96\"/>\n",
       "      <path fill=\"none\" d=\"M86.29,44.97 L 157.73 44.97\"/>\n",
       "      <path fill=\"none\" d=\"M86.29,30.98 L 157.73 30.98\"/>\n",
       "      <path fill=\"none\" d=\"M86.29,16.99 L 157.73 16.99\"/>\n",
       "      <path fill=\"none\" d=\"M86.29,3 L 157.73 3\"/>\n",
       "    </g>\n",
       "    <g class=\"guide xgridlines yfixed\" stroke-dasharray=\"0.5,0.5\" stroke-width=\"0.2\" stroke=\"#D0D0E0\" id=\"img-19f490c1-12\">\n",
       "      <path fill=\"none\" d=\"M88.29,1 L 88.29 88.93\"/>\n",
       "      <path fill=\"none\" d=\"M101.77,1 L 101.77 88.93\"/>\n",
       "      <path fill=\"none\" d=\"M115.26,1 L 115.26 88.93\"/>\n",
       "      <path fill=\"none\" d=\"M128.75,1 L 128.75 88.93\"/>\n",
       "      <path fill=\"none\" d=\"M142.24,1 L 142.24 88.93\"/>\n",
       "      <path fill=\"none\" d=\"M155.73,1 L 155.73 88.93\"/>\n",
       "    </g>\n",
       "    <g class=\"plotpanel\" id=\"img-19f490c1-13\">\n",
       "      <g stroke-width=\"0.26\" fill=\"#000000\" fill-opacity=\"0.000\" class=\"geometry\" stroke-dasharray=\"none\" stroke=\"#009AFA\" id=\"img-19f490c1-14\">\n",
       "        <path fill=\"none\" d=\"M88.55,39.13 L 88.82 44.84 89.09 28.81 89.36 43.09 89.63 39.87 89.9 42.84 90.17 47.89 90.44 33.06 90.71 47.44 90.98 51.16 91.25 47.81 91.52 34.85 91.79 30.16 92.06 32.61 92.33 31.69 92.6 26.23 92.87 39.54 93.14 29.47 93.41 42.18 93.68 37.05 93.95 35.16 94.22 47.53 94.49 50 94.76 39.81 95.03 49.52 95.3 35.48 95.57 59.23 95.84 54.22 96.11 35.78 96.38 32.96 96.65 28.59 96.92 29.72 97.19 42.03 97.46 37.77 97.73 49.32 98 36.54 98.27 54.91 98.54 39.91 98.81 52.85 99.08 32.2 99.35 25.62 99.62 45.13 99.89 40.06 100.16 35.16 100.43 48.69 100.69 75.09 100.96 40.67 101.23 27.86 101.5 36.43 101.77 38.97 102.04 40.26 102.31 39.45 102.58 36.6 102.85 40.19 103.12 40.19 103.39 43.3 103.66 41.01 103.93 49.1 104.2 34.02 104.47 39.92 104.74 48.68 105.01 51.55 105.28 59.28 105.55 36.14 105.82 25.51 106.09 42.54 106.36 35.26 106.63 44.6 106.9 55.29 107.17 27.49 107.44 41.15 107.71 41.97 107.98 51.25 108.25 52.99 108.52 52.2 108.79 46.56 109.06 50.19 109.33 74.88 109.6 21.54 109.87 33.05 110.14 30.38 110.41 46.83 110.68 46.78 110.95 40.31 111.22 35.88 111.49 46.18 111.76 43.16 112.03 37.2 112.3 58.26 112.57 58.3 112.84 37.85 113.1 64.13 113.37 51.53 113.64 61.93 113.91 81.8 114.18 35.43 114.45 12.73 114.72 25.48 114.99 63.18 115.26 35.18 115.53 23.21 115.8 43.62 116.07 44.91 116.34 41.78 116.61 56.41 116.88 41.28 117.15 50.75 117.42 46.08 117.69 53.19 117.96 34.89 118.23 34.76 118.5 56.4 118.77 37.18 119.04 43.14 119.31 37.48 119.58 47.49 119.85 56.07 120.12 27.49 120.39 31.73 120.66 36.41 120.93 44.82 121.2 49.07 121.47 62.82 121.74 36.15 122.01 57.9 122.28 48.57 122.55 30.48 122.82 19.89 123.09 32.54 123.36 29.34 123.63 46.61 123.9 46.96 124.17 50.22 124.44 49.66 124.71 32.83 124.98 44.37 125.24 32.79 125.51 35.99 125.78 52.51 126.05 22.6 126.32 24.92 126.59 38.62 126.86 55.27 127.13 41.07 127.4 17.94 127.67 41.15 127.94 37.86 128.21 77.6 128.48 36.62 128.75 37.91 129.02 46.01 129.29 42.91 129.56 37.56 129.83 33.86 130.1 32.44 130.37 45.49 130.64 51.31 130.91 39.97 131.18 66.01 131.45 34.35 131.72 25.67 131.99 46.03 132.26 38.48 132.53 35.05 132.8 48.61 133.07 44.24 133.34 41.85 133.61 37.94 133.88 39.1 134.15 44.43 134.42 41.4 134.69 42.42 134.96 51.11 135.23 46.37 135.5 38.62 135.77 47.17 136.04 33.43 136.31 34.12 136.58 34.05 136.85 38.33 137.12 37.97 137.39 40.41 137.65 42.27 137.92 35.91 138.19 43.08 138.46 22.83 138.73 34.11 139 40.87 139.27 27.79 139.54 43.52 139.81 63.41 140.08 18.62 140.35 43.67 140.62 35.24 140.89 57.59 141.16 32.21 141.43 44.67 141.7 46.84 141.97 40.06 142.24 47.49 142.51 58.6 142.78 37.83 143.05 61.97 143.32 32.77\"/>\n",
       "      </g>\n",
       "    </g>\n",
       "  </g>\n",
       "</g>\n",
       "  <g class=\"guide ylabels\" font-size=\"2.82\" font-family=\"Helvetica\" fill=\"#000000\" id=\"img-19f490c1-15\">\n",
       "    <text x=\"85.29\" y=\"86.93\" text-anchor=\"end\" dy=\"0.35em\">0.7</text>\n",
       "    <text x=\"85.29\" y=\"72.94\" text-anchor=\"end\" dy=\"0.35em\">0.8</text>\n",
       "    <text x=\"85.29\" y=\"58.96\" text-anchor=\"end\" dy=\"0.35em\">0.9</text>\n",
       "    <text x=\"85.29\" y=\"44.97\" text-anchor=\"end\" dy=\"0.35em\">1.0</text>\n",
       "    <text x=\"85.29\" y=\"30.98\" text-anchor=\"end\" dy=\"0.35em\">1.1</text>\n",
       "    <text x=\"85.29\" y=\"16.99\" text-anchor=\"end\" dy=\"0.35em\">1.2</text>\n",
       "    <text x=\"85.29\" y=\"3\" text-anchor=\"end\" dy=\"0.35em\">1.3</text>\n",
       "  </g>\n",
       "</g>\n",
       "<g stroke=\"#000000\" stroke-opacity=\"0.000\" fill=\"#FFFFFF\" id=\"img-19f490c1-16\">\n",
       "  <rect x=\"0\" y=\"0\" width=\"79.37\" height=\"105.82\"/>\n",
       "</g>\n",
       "<g class=\"plotroot xscalable yscalable\" id=\"img-19f490c1-17\">\n",
       "  <g class=\"guide colorkey\" id=\"img-19f490c1-18\">\n",
       "    <g fill=\"#000000\" font-size=\"2.82\" font-family=\"Helvetica\" id=\"img-19f490c1-19\">\n",
       "      <text x=\"13.24\" y=\"101.01\" dy=\"0.35em\">Consumption growth</text>\n",
       "    </g>\n",
       "    <g fill=\"#009AFA\" stroke=\"#000000\" stroke-opacity=\"0.000\" id=\"img-19f490c1-20\">\n",
       "      <rect x=\"10.43\" y=\"100.1\" width=\"1.82\" height=\"1.82\"/>\n",
       "    </g>\n",
       "    <g fill=\"#000000\" font-size=\"3.88\" font-family=\"Helvetica\" stroke=\"#000000\" stroke-opacity=\"0.000\" id=\"img-19f490c1-21\">\n",
       "      <text x=\"10.43\" y=\"97.19\"></text>\n",
       "    </g>\n",
       "  </g>\n",
       "  <g class=\"guide xlabels\" font-size=\"2.82\" font-family=\"Helvetica\" fill=\"#000000\" id=\"img-19f490c1-22\">\n",
       "    <text x=\"11.43\" y=\"89.93\" text-anchor=\"middle\" dy=\"0.6em\">0</text>\n",
       "    <text x=\"24.41\" y=\"89.93\" text-anchor=\"middle\" dy=\"0.6em\">50</text>\n",
       "    <text x=\"37.4\" y=\"89.93\" text-anchor=\"middle\" dy=\"0.6em\">100</text>\n",
       "    <text x=\"50.39\" y=\"89.93\" text-anchor=\"middle\" dy=\"0.6em\">150</text>\n",
       "    <text x=\"63.38\" y=\"89.93\" text-anchor=\"middle\" dy=\"0.6em\">200</text>\n",
       "    <text x=\"76.37\" y=\"89.93\" text-anchor=\"middle\" dy=\"0.6em\">250</text>\n",
       "  </g>\n",
       "<g clip-path=\"url(#img-19f490c1-23)\">\n",
       "  <g id=\"img-19f490c1-24\">\n",
       "    <g pointer-events=\"visible\" opacity=\"1\" fill=\"#000000\" fill-opacity=\"0.000\" stroke=\"#000000\" stroke-opacity=\"0.000\" class=\"guide background\" id=\"img-19f490c1-25\">\n",
       "      <rect x=\"9.43\" y=\"1\" width=\"68.94\" height=\"87.93\"/>\n",
       "    </g>\n",
       "    <g class=\"guide ygridlines xfixed\" stroke-dasharray=\"0.5,0.5\" stroke-width=\"0.2\" stroke=\"#D0D0E0\" id=\"img-19f490c1-26\">\n",
       "      <path fill=\"none\" d=\"M9.43,86.93 L 78.37 86.93\"/>\n",
       "      <path fill=\"none\" d=\"M9.43,70.15 L 78.37 70.15\"/>\n",
       "      <path fill=\"none\" d=\"M9.43,53.36 L 78.37 53.36\"/>\n",
       "      <path fill=\"none\" d=\"M9.43,36.57 L 78.37 36.57\"/>\n",
       "      <path fill=\"none\" d=\"M9.43,19.79 L 78.37 19.79\"/>\n",
       "      <path fill=\"none\" d=\"M9.43,3 L 78.37 3\"/>\n",
       "    </g>\n",
       "    <g class=\"guide xgridlines yfixed\" stroke-dasharray=\"0.5,0.5\" stroke-width=\"0.2\" stroke=\"#D0D0E0\" id=\"img-19f490c1-27\">\n",
       "      <path fill=\"none\" d=\"M11.43,1 L 11.43 88.93\"/>\n",
       "      <path fill=\"none\" d=\"M24.41,1 L 24.41 88.93\"/>\n",
       "      <path fill=\"none\" d=\"M37.4,1 L 37.4 88.93\"/>\n",
       "      <path fill=\"none\" d=\"M50.39,1 L 50.39 88.93\"/>\n",
       "      <path fill=\"none\" d=\"M63.38,1 L 63.38 88.93\"/>\n",
       "      <path fill=\"none\" d=\"M76.37,1 L 76.37 88.93\"/>\n",
       "    </g>\n",
       "    <g class=\"plotpanel\" id=\"img-19f490c1-28\">\n",
       "      <g stroke-width=\"0.26\" fill=\"#000000\" fill-opacity=\"0.000\" class=\"geometry\" stroke-dasharray=\"none\" stroke=\"#009AFA\" id=\"img-19f490c1-29\">\n",
       "        <path fill=\"none\" d=\"M11.69,69.65 L 11.95 30.67 12.21 46.33 12.47 58.98 12.73 24.36 12.99 34.13 13.24 36.35 13.5 43.74 13.76 44.74 14.02 64.82 14.28 63.19 14.54 45.39 14.8 51.42 15.06 37.03 15.32 36.14 15.58 42.74 15.84 36.31 16.1 47.03 16.36 26.86 16.62 42.76 16.88 56.5 17.14 53.05 17.4 44.45 17.66 53.42 17.92 50.56 18.18 41.92 18.44 57.97 18.7 71.19 18.96 41.77 19.22 33.1 19.48 44.86 19.74 38.82 20 40.11 20.26 46.43 20.52 45.08 20.78 58.27 21.04 40.27 21.3 67.04 21.56 53.26 21.82 46.9 22.08 36.29 22.34 56.88 22.6 33.75 22.86 44.59 23.12 43.51 23.38 45.87 23.64 46.18 23.89 50.81 24.15 46.75 24.41 38.2 24.67 50.19 24.93 29.9 25.19 30.04 25.45 31.71 25.71 45.46 25.97 40.81 26.23 37.56 26.49 34.83 26.75 13.81 27.01 42.74 27.27 40.83 27.53 45.72 27.79 52.42 28.05 41.21 28.31 43.86 28.57 47.23 28.83 47.19 29.09 27.49 29.35 32.69 29.61 33.4 29.87 48.44 30.13 40.92 30.39 44.26 30.65 50.28 30.91 42.62 31.17 40.6 31.43 51.98 31.69 43.21 31.95 45.57 32.21 48.03 32.47 46.86 32.73 50.71 32.99 38.41 33.25 39.74 33.51 26.07 33.77 35.72 34.03 27.01 34.28 41.41 34.54 59.1 34.8 48.3 35.06 58.79 35.32 71.52 35.58 55.98 35.84 53.19 36.1 65.73 36.36 46.52 36.62 27.26 36.88 45.75 37.14 44.58 37.4 26.72 37.66 37.68 37.92 39.4 38.18 36.64 38.44 45 38.7 54.95 38.96 43.66 39.22 32.52 39.48 39.39 39.74 37.74 40 43.31 40.26 43.99 40.52 44.74 40.78 56.82 41.04 47.72 41.3 44.81 41.56 59.13 41.82 74.31 42.08 50.93 42.34 42.96 42.6 53.93 42.86 45.42 43.12 54.34 43.38 53.42 43.64 51.73 43.9 50.65 44.16 46.23 44.42 34.91 44.68 40.36 44.93 34.91 45.19 35.08 45.45 36.89 45.71 45.58 45.97 33.75 46.23 44.16 46.49 40.24 46.75 37.63 47.01 41.2 47.27 38.81 47.53 40.63 47.79 41.73 48.05 39.73 48.31 46.83 48.57 38.76 48.83 40.38 49.09 43.2 49.35 48.09 49.61 45.4 49.87 35.38 50.13 42.89 50.39 38.89 50.65 41.25 50.91 48.66 51.17 54.73 51.43 44.59 51.69 41.88 51.95 53 52.21 44.44 52.47 49.48 52.73 70.6 52.99 59.48 53.25 44.63 53.51 54.76 53.77 60.34 54.03 33.83 54.29 52.01 54.55 50.21 54.81 35.78 55.07 55.05 55.33 45.06 55.58 41.04 55.84 46.9 56.1 41.6 56.36 43.63 56.62 46.58 56.88 44.97 57.14 48.24 57.4 42.46 57.66 48.75 57.92 47.19 58.18 44.78 58.44 44.69 58.7 48.03 58.96 47.3 59.22 42.33 59.48 47.35 59.74 38.76 60 47.08 60.26 36.27 60.52 36.53 60.78 43.16 61.04 45.75 61.3 38.55 61.56 39.91 61.82 43.87 62.08 39.75 62.34 44.13 62.6 41.3 62.86 46.05 63.12 42.02 63.38 50.32 63.64 54.32 63.9 52.25 64.16 44.01 64.42 35.9\"/>\n",
       "      </g>\n",
       "    </g>\n",
       "  </g>\n",
       "</g>\n",
       "  <g class=\"guide ylabels\" font-size=\"2.82\" font-family=\"Helvetica\" fill=\"#000000\" id=\"img-19f490c1-30\">\n",
       "    <text x=\"8.43\" y=\"86.93\" text-anchor=\"end\" dy=\"0.35em\">-0.02</text>\n",
       "    <text x=\"8.43\" y=\"70.15\" text-anchor=\"end\" dy=\"0.35em\">-0.01</text>\n",
       "    <text x=\"8.43\" y=\"53.36\" text-anchor=\"end\" dy=\"0.35em\">0.00</text>\n",
       "    <text x=\"8.43\" y=\"36.57\" text-anchor=\"end\" dy=\"0.35em\">0.01</text>\n",
       "    <text x=\"8.43\" y=\"19.79\" text-anchor=\"end\" dy=\"0.35em\">0.02</text>\n",
       "    <text x=\"8.43\" y=\"3\" text-anchor=\"end\" dy=\"0.35em\">0.03</text>\n",
       "  </g>\n",
       "</g>\n",
       "<defs>\n",
       "  <clipPath id=\"img-19f490c1-23\">\n",
       "  <path d=\"M9.43,1 L 78.37 1 78.37 88.93 9.43 88.93\" />\n",
       "</clipPath>\n",
       "  <clipPath id=\"img-19f490c1-8\">\n",
       "  <path d=\"M86.29,1 L 157.73 1 157.73 88.93 86.29 88.93\" />\n",
       "</clipPath>\n",
       "</defs>\n",
       "</svg>\n"
      ],
      "text/plain": [
       "Compose.SVG(158.73015873015876mm,105.82010582010584mm,IOBuffer(data=UInt8[...], readable=true, writable=true, seekable=true, append=false, size=12300, maxsize=Inf, ptr=12301, mark=-1),nothing,\"img-19f490c1\",0,Compose.SVGPropertyFrame[],Dict{Type{T},Union{Compose.Property{P<:Compose.PropertyPrimitive},Void}}(),Dict{Compose.ClipPrimitive{P<:NTuple{N,Measures.Measure}},ASCIIString}(Compose.ClipPrimitive{Tuple{Measures.Length{:mm,Float64},Measures.Length{:mm,Float64}}}([(9.426666666666662mm,1.0mm),(78.36507936507938mm,1.0mm),(78.36507936507938mm,88.93260582010583mm),(9.426666666666662mm,88.93260582010583mm)])=>\"img-19f490c1-23\",Compose.ClipPrimitive{Tuple{Measures.Length{:mm,Float64},Measures.Length{:mm,Float64}}}([(86.28507936507938mm,1.0mm),(157.73015873015876mm,1.0mm),(157.73015873015876mm,88.93260582010583mm),(86.28507936507938mm,88.93260582010583mm)])=>\"img-19f490c1-8\"),Tuple{Compose.FormPrimitive,ASCIIString}[],Set{AbstractString}(),true,false,nothing,true,\"img-19f490c1-30\",false,30,AbstractString[\"/Users/gragusa/.julia/v0.4/Gadfly/src/gadfly.js\",\"/Users/gragusa/.julia/v0.4/Gadfly/src/gadfly.js\"],Tuple{AbstractString,AbstractString}[(\"Snap.svg\",\"Snap\"),(\"Gadfly\",\"Gadfly\"),(\"Gadfly\",\"Gadfly\")],AbstractString[\"fig.select(\\\"#img-19f490c1-3\\\")\\n   .drag(function() {}, function() {}, function() {});\",\"fig.select(\\\"#img-19f490c1-9\\\")\\n   .init_gadfly();\",\"fig.select(\\\"#img-19f490c1-18\\\")\\n   .drag(function() {}, function() {}, function() {});\",\"fig.select(\\\"#img-19f490c1-24\\\")\\n   .init_gadfly();\"],false,:none)"
      ]
     },
     "metadata": {},
     "output_type": "display_data"
    },
    {
     "data": {
      "text/html": []
     },
     "execution_count": 12,
     "metadata": {},
     "output_type": "execute_result"
    }
   ],
   "source": [
    "gadfly()\n",
    "using Plots\n",
    "c = Plots.plot(y=ΔC, lab = \"Consumption growth\", legend = :bottom);\n",
    "r = Plots.plot(y=R, lab = \"Monthly return on ssi\", legend = :bottom);\n",
    "Plots.subplot(c, r)"
   ]
  },
  {
   "cell_type": "code",
   "execution_count": 13,
   "metadata": {
    "collapsed": false
   },
   "outputs": [
    {
     "data": {
      "text/plain": [
       "h (generic function with 1 method)"
      ]
     },
     "execution_count": 13,
     "metadata": {},
     "output_type": "execute_result"
    }
   ],
   "source": [
    "function g(θ)\n",
    "    β = θ[1]\n",
    "    γ = θ[2]\n",
    "    exp(log(β) + (γ-1)*ΔC + log(R))-1\n",
    "end\n",
    "\n",
    "\n",
    "function h(θ)\n",
    "    m = Z.*g(θ)\n",
    "    ex = maximum(mapslices(x -> sum(isnan(x)), Z, 1))\n",
    "    m[ex+1:end,:]\n",
    "end"
   ]
  },
  {
   "cell_type": "code",
   "execution_count": 14,
   "metadata": {
    "collapsed": false
   },
   "outputs": [
    {
     "data": {
      "text/plain": [
       "204-element Array{Float64,1}:\n",
       "  0.00493269\n",
       " -0.0455964 \n",
       "  0.0686378 \n",
       " -0.0254862 \n",
       " -0.0136114 \n",
       " -0.03097   \n",
       " -0.0647865 \n",
       "  0.0387012 \n",
       " -0.0593637 \n",
       " -0.079341  \n",
       " -0.0567475 \n",
       "  0.0269841 \n",
       "  0.0610079 \n",
       "  ⋮         \n",
       " -0.0349629 \n",
       "  0.0238539 \n",
       " -0.130151  \n",
       "  0.0446906 \n",
       " -0.041434  \n",
       " -0.0549339 \n",
       " -0.0096596 \n",
       " -0.0581905 \n",
       " -0.133314  \n",
       "  0.00862127\n",
       " -0.159067  \n",
       "  0.038253  "
      ]
     },
     "execution_count": 14,
     "metadata": {},
     "output_type": "execute_result"
    }
   ],
   "source": [
    "g([.96, .5])   ## (T × 1)  "
   ]
  },
  {
   "cell_type": "code",
   "execution_count": 15,
   "metadata": {
    "collapsed": false
   },
   "outputs": [
    {
     "data": {
      "text/plain": [
       "204x2 Array{Float64,2}:\n",
       " 1.0  NaN         \n",
       " 1.0   -0.00970405\n",
       " 1.0    0.0135159 \n",
       " 1.0    0.00418465\n",
       " 1.0   -0.00335009\n",
       " 1.0    0.0172782 \n",
       " 1.0    0.0114536 \n",
       " 1.0    0.0101319 \n",
       " 1.0    0.00573239\n",
       " 1.0    0.00513185\n",
       " 1.0   -0.00682834\n",
       " 1.0   -0.00585512\n",
       " 1.0    0.00474956\n",
       " ⋮                \n",
       " 1.0    0.00882475\n",
       " 1.0    0.00801492\n",
       " 1.0    0.00565139\n",
       " 1.0    0.00810953\n",
       " 1.0    0.00549766\n",
       " 1.0    0.00718213\n",
       " 1.0    0.00435467\n",
       " 1.0    0.00675655\n",
       " 1.0    0.00181141\n",
       " 1.0   -0.00057154\n",
       " 1.0    0.00066272\n",
       " 1.0    0.00557075"
      ]
     },
     "execution_count": 15,
     "metadata": {},
     "output_type": "execute_result"
    }
   ],
   "source": [
    "## Select the instruments\n",
    "Z = [ones(size(ΔC)) [NaN; ΔC[1:end-1]]] "
   ]
  },
  {
   "cell_type": "code",
   "execution_count": 16,
   "metadata": {
    "collapsed": false
   },
   "outputs": [
    {
     "data": {
      "text/plain": [
       "203x2 Array{Float64,2}:\n",
       " -0.00980624   9.51602e-5 \n",
       "  0.108712     0.00146934 \n",
       "  0.0110581    4.62741e-5 \n",
       "  0.0233781   -7.83189e-5 \n",
       "  0.00536862   9.27599e-5 \n",
       " -0.029716    -0.000340355\n",
       "  0.0776525    0.000786764\n",
       " -0.0240899   -0.000138093\n",
       " -0.0448162   -0.00022999 \n",
       " -0.0213756    0.00014596 \n",
       "  0.065496    -0.000383487\n",
       "  0.100796     0.000478735\n",
       "  0.0787464    9.10914e-5 \n",
       "  ⋮                       \n",
       "  0.00122599   1.08191e-5 \n",
       "  0.0622484    0.000498916\n",
       " -0.0975316   -0.000551189\n",
       "  0.0838665    0.000680118\n",
       " -0.00548778  -3.017e-5   \n",
       " -0.0194939   -0.000140008\n",
       "  0.0274782    0.000119658\n",
       " -0.0228726   -0.00015454 \n",
       " -0.100813    -0.000182614\n",
       "  0.0464446   -2.65449e-5 \n",
       " -0.127532    -8.45179e-5 \n",
       "  0.0771875    0.000429992"
      ]
     },
     "execution_count": 16,
     "metadata": {},
     "output_type": "execute_result"
    }
   ],
   "source": [
    "h([.996, .5])   ## T × m --> Actual moment conditions to use"
   ]
  },
  {
   "cell_type": "code",
   "execution_count": 18,
   "metadata": {
    "collapsed": false
   },
   "outputs": [
    {
     "data": {
      "text/plain": [
       "J (generic function with 1 method)"
      ]
     },
     "execution_count": 18,
     "metadata": {},
     "output_type": "execute_result"
    }
   ],
   "source": [
    "function J(θ)\n",
    "    ht = h(θ);\n",
    "    hT = sum(ht, 1)\n",
    "    out = (hT*W*hT')\n",
    "    out[1]\n",
    "end"
   ]
  },
  {
   "cell_type": "code",
   "execution_count": 20,
   "metadata": {
    "collapsed": false
   },
   "outputs": [
    {
     "data": {
      "text/plain": [
       "19.05474312301578"
      ]
     },
     "execution_count": 20,
     "metadata": {},
     "output_type": "execute_result"
    }
   ],
   "source": [
    "W = eye(2);\n",
    "J([.96, .5])"
   ]
  },
  {
   "cell_type": "code",
   "execution_count": 21,
   "metadata": {
    "collapsed": false
   },
   "outputs": [
    {
     "ename": "LoadError",
     "evalue": "LoadError: DomainError:\nwhile loading In[21], in expression starting on line 2",
     "output_type": "error",
     "traceback": [
      "LoadError: DomainError:\nwhile loading In[21], in expression starting on line 2",
      ""
     ]
    }
   ],
   "source": [
    "## Minimization\n",
    "optimize(J, [.96, .9])  ## γ < 1 !!!"
   ]
  },
  {
   "cell_type": "markdown",
   "metadata": {},
   "source": [
    "In the optimization problem that defines the GMM estimator\n",
    "$$\n",
    "\\hat{\\theta}^{gmm}=\\arg\\min_{\\theta\\in\\Theta}\\left(\\frac{1}{T}\\sum_{t=1}^{T}h(w_{t},\\theta)\\right)'\\mathbf{W}\\left(\\frac{1}{T}\\sum_{t=1}^{T}h(w_{t},\\theta)\\right),\n",
    "$$\n",
    "\n",
    "\\Theta is a compact set. This is atechnical assumption and it can be relaxed by adding additional requirement on $h$ and the stochastic process $w_t$. \n",
    "\n",
    "Here the problem is that the function $g(w_t,\\theta)$ is not defined for $\\gamma>1$. Thus we have to minimize the GMM objective function under the following constraint. \n",
    "$$\n",
    "\\gamma <1\n",
    "$$\n",
    "\n",
    "Additionally, we will constraint $\\beta \\in [0,1]$. \n",
    "\n",
    "To carry out a constrained optimization, we could use a constrained routines. However, solving constrained optimization problems is substantially harder than solving unconstrained optimization problems. In this case, it is possible to  convert the constrained optimization problem into an unconstrained optimization problem by transforming the variables. \n"
   ]
  },
  {
   "cell_type": "code",
   "execution_count": 23,
   "metadata": {
    "collapsed": false
   },
   "outputs": [
    {
     "data": {
      "text/plain": [
       "J (generic function with 1 method)"
      ]
     },
     "execution_count": 23,
     "metadata": {},
     "output_type": "execute_result"
    }
   ],
   "source": [
    "function J(θ)\n",
    "    β = 1/(1+exp(-θ[1]))\n",
    "    γ = -exp(θ[2]) + 1    \n",
    "    ht = h([β, γ]);    \n",
    "    hT = sum(ht, 1)\n",
    "    out = (hT*W*hT')\n",
    "    out[1]\n",
    "end"
   ]
  },
  {
   "cell_type": "markdown",
   "metadata": {},
   "source": [
    "When the GMM objective function is defined as above, we are minimizing `J(θ)` with respect to unconstrained $\\theta$ which are related to our parameters of interest by these transformation:\n",
    "\n",
    "$$\n",
    "\\theta[1] = \\log \\left(\\frac{\\beta}{1-\\beta}\\right)\n",
    "$$\n",
    "and \n",
    "$$\n",
    "\\theta[2] = log(1-\\gamma).\n",
    "$$\n"
   ]
  },
  {
   "cell_type": "code",
   "execution_count": 24,
   "metadata": {
    "collapsed": false
   },
   "outputs": [
    {
     "data": {
      "text/plain": [
       "Results of Optimization Algorithm\n",
       " * Algorithm: Nelder-Mead\n",
       " * Starting Point: [3.178053830347945,-0.6931471805599453]\n",
       " * Minimizer: [5.315166322116017,1.1586200301916147]\n",
       " * Minimum: 0.000082\n",
       " * Iterations: 440\n",
       " * Convergence: true\n",
       "   * |x - x'| < NaN: false\n",
       "   * |f(x) - f(x')| / |f(x)| < 1.0e-08: true\n",
       "   * |g(x)| < NaN: false\n",
       "   * Reached Maximum Number of Iterations: false\n",
       " * Objective Function Calls: 824\n",
       " * Gradient Calls: 0"
      ]
     },
     "execution_count": 24,
     "metadata": {},
     "output_type": "execute_result"
    }
   ],
   "source": [
    "Jmin = optimize(J, [log(0.96/(1-0.96)), log(1-0.5)])"
   ]
  },
  {
   "cell_type": "code",
   "execution_count": 25,
   "metadata": {
    "collapsed": false
   },
   "outputs": [
    {
     "data": {
      "text/plain": [
       "2-element Array{Float64,1}:\n",
       "  0.995108\n",
       " -2.18553 "
      ]
     },
     "execution_count": 25,
     "metadata": {},
     "output_type": "execute_result"
    }
   ],
   "source": [
    "θs = Jmin.minimum;\n",
    "β = 1/(1+exp(-θs[1]));\n",
    "γ = -exp(θs[2])+1;\n",
    "[β, γ]"
   ]
  },
  {
   "cell_type": "markdown",
   "metadata": {},
   "source": [
    "Let's now use more instruments to improve efficiency. The only think we have to do is to augment the `Z` with variables that are known at time $t$. We include up to 4 lags of consumption growth. "
   ]
  },
  {
   "cell_type": "code",
   "execution_count": 26,
   "metadata": {
    "collapsed": false
   },
   "outputs": [
    {
     "data": {
      "text/plain": [
       "204x3 Array{Float64,2}:\n",
       " 1.0  NaN           NaN         \n",
       " 1.0   -0.00970405  NaN         \n",
       " 1.0    0.0135159    -0.00970405\n",
       " 1.0    0.00418465    0.0135159 \n",
       " 1.0   -0.00335009    0.00418465\n",
       " 1.0    0.0172782    -0.00335009\n",
       " 1.0    0.0114536     0.0172782 \n",
       " 1.0    0.0101319     0.0114536 \n",
       " 1.0    0.00573239    0.0101319 \n",
       " 1.0    0.00513185    0.00573239\n",
       " 1.0   -0.00682834    0.00513185\n",
       " 1.0   -0.00585512   -0.00682834\n",
       " 1.0    0.00474956   -0.00585512\n",
       " ⋮                              \n",
       " 1.0    0.00882475    0.00453256\n",
       " 1.0    0.00801492    0.00882475\n",
       " 1.0    0.00565139    0.00801492\n",
       " 1.0    0.00810953    0.00565139\n",
       " 1.0    0.00549766    0.00810953\n",
       " 1.0    0.00718213    0.00549766\n",
       " 1.0    0.00435467    0.00718213\n",
       " 1.0    0.00675655    0.00435467\n",
       " 1.0    0.00181141    0.00675655\n",
       " 1.0   -0.00057154    0.00181141\n",
       " 1.0    0.00066272   -0.00057154\n",
       " 1.0    0.00557075    0.00066272"
      ]
     },
     "execution_count": 26,
     "metadata": {},
     "output_type": "execute_result"
    }
   ],
   "source": [
    "#Z = [ones(size(ΔC)) [NaN; ΔC[1:end-1]] [NaN; NaN; ΔC[1:end-2]] [NaN; NaN; NaN; ΔC[1:end-3]] [NaN; NaN; NaN; NaN; ΔC[1:end-4]]]\n",
    "Z = [ones(size(ΔC)) [NaN; ΔC[1:end-1]] [NaN; NaN; ΔC[1:end-2]] ]"
   ]
  },
  {
   "cell_type": "code",
   "execution_count": 27,
   "metadata": {
    "collapsed": false
   },
   "outputs": [
    {
     "data": {
      "text/plain": [
       "Results of Optimization Algorithm\n",
       " * Algorithm: Nelder-Mead\n",
       " * Starting Point: [3.178053830347945,0.0]\n",
       " * Minimizer: [5.323543984587871,1.1746527376166733]\n",
       " * Minimum: 0.000248\n",
       " * Iterations: 515\n",
       " * Convergence: true\n",
       "   * |x - x'| < NaN: false\n",
       "   * |f(x) - f(x')| / |f(x)| < 1.0e-08: true\n",
       "   * |g(x)| < NaN: false\n",
       "   * Reached Maximum Number of Iterations: false\n",
       " * Objective Function Calls: 957\n",
       " * Gradient Calls: 0"
      ]
     },
     "execution_count": 27,
     "metadata": {},
     "output_type": "execute_result"
    }
   ],
   "source": [
    "W = eye(3)\n",
    "Jmin = optimize(J, [log(0.96/(1-0.96)), log(2-1)])  ## γ < 1 !!!"
   ]
  },
  {
   "cell_type": "code",
   "execution_count": 28,
   "metadata": {
    "collapsed": false
   },
   "outputs": [
    {
     "data": {
      "text/plain": [
       "2-element Array{Float64,1}:\n",
       "  0.995148\n",
       " -2.23702 "
      ]
     },
     "execution_count": 28,
     "metadata": {},
     "output_type": "execute_result"
    }
   ],
   "source": [
    "θs = Jmin.minimum;\n",
    "β = 1/(1+exp(-θs[1]));\n",
    "γ = -exp(θs[2])+1;\n",
    "[β,γ]"
   ]
  },
  {
   "cell_type": "code",
   "execution_count": 31,
   "metadata": {
    "collapsed": false
   },
   "outputs": [
    {
     "data": {
      "text/plain": [
       "3x3 Array{Float64,2}:\n",
       "    1.84185    -135.435     -77.9914\n",
       " -135.435     40957.3    -11453.3   \n",
       "  -77.9914   -11453.3     31476.2   "
      ]
     },
     "execution_count": 31,
     "metadata": {},
     "output_type": "execute_result"
    }
   ],
   "source": [
    "ht = h([β,γ])\n",
    "W = inv(ht'ht)"
   ]
  },
  {
   "cell_type": "code",
   "execution_count": 32,
   "metadata": {
    "collapsed": false
   },
   "outputs": [
    {
     "data": {
      "text/plain": [
       "Results of Optimization Algorithm\n",
       " * Algorithm: Nelder-Mead\n",
       " * Starting Point: [5.323543984587871,1.1746527376166733]\n",
       " * Minimizer: [25.804178410848113,1.459822788888433]\n",
       " * Minimum: 10.255502\n",
       " * Iterations: 48\n",
       " * Convergence: true\n",
       "   * |x - x'| < NaN: false\n",
       "   * |f(x) - f(x')| / |f(x)| < 1.0e-08: true\n",
       "   * |g(x)| < NaN: false\n",
       "   * Reached Maximum Number of Iterations: false\n",
       " * Objective Function Calls: 90\n",
       " * Gradient Calls: 0"
      ]
     },
     "execution_count": 32,
     "metadata": {},
     "output_type": "execute_result"
    }
   ],
   "source": [
    "Jmin = optimize(J, θs)"
   ]
  },
  {
   "cell_type": "code",
   "execution_count": 33,
   "metadata": {
    "collapsed": false
   },
   "outputs": [
    {
     "data": {
      "text/plain": [
       "2-element Array{Float64,1}:\n",
       "  1.0   \n",
       " -3.3052"
      ]
     },
     "execution_count": 33,
     "metadata": {},
     "output_type": "execute_result"
    }
   ],
   "source": [
    "θs = Jmin.minimum;\n",
    "β = 1/(1+exp(-θs[1]));\n",
    "γ = -exp(θs[2])+1;\n",
    "[β, γ]"
   ]
  },
  {
   "cell_type": "markdown",
   "metadata": {},
   "source": [
    "## Pricing the risk free bond\n",
    "According to the pricing kernel\n",
    "$$\n",
    "1+r^f_t = \\frac{1}{E[\\beta (C_t/C_{t+1})^{\\gamma-1}]}\n",
    "$$\n",
    "where $r^f_t$ is the return on a risk free asset. \n",
    "\n"
   ]
  },
  {
   "cell_type": "code",
   "execution_count": 35,
   "metadata": {
    "collapsed": false
   },
   "outputs": [
    {
     "data": {
      "image/svg+xml": [
       "<?xml version=\"1.0\" encoding=\"UTF-8\"?>\n",
       "<svg xmlns=\"http://www.w3.org/2000/svg\"\n",
       "     xmlns:xlink=\"http://www.w3.org/1999/xlink\"\n",
       "     xmlns:gadfly=\"http://www.gadflyjl.org/ns\"\n",
       "     version=\"1.2\"\n",
       "     width=\"158.73mm\" height=\"105.82mm\" viewBox=\"0 0 158.73 105.82\"\n",
       "     stroke=\"none\"\n",
       "     fill=\"#000000\"\n",
       "     stroke-width=\"0.3\"\n",
       "     font-size=\"3.88\"\n",
       ">\n",
       "<g stroke=\"#000000\" stroke-opacity=\"0.000\" fill=\"#FFFFFF\" id=\"img-33f8e641-1\">\n",
       "  <rect x=\"0\" y=\"0\" width=\"158.73\" height=\"105.82\"/>\n",
       "</g>\n",
       "<g class=\"plotroot xscalable yscalable\" id=\"img-33f8e641-2\">\n",
       "  <g class=\"guide xlabels\" font-size=\"2.82\" font-family=\"Helvetica\" fill=\"#000000\" id=\"img-33f8e641-3\">\n",
       "    <text x=\"11.43\" y=\"101.19\" text-anchor=\"middle\" dy=\"0.6em\">0</text>\n",
       "    <text x=\"34.27\" y=\"101.19\" text-anchor=\"middle\" dy=\"0.6em\">50</text>\n",
       "    <text x=\"57.11\" y=\"101.19\" text-anchor=\"middle\" dy=\"0.6em\">100</text>\n",
       "    <text x=\"79.95\" y=\"101.19\" text-anchor=\"middle\" dy=\"0.6em\">150</text>\n",
       "    <text x=\"102.8\" y=\"101.19\" text-anchor=\"middle\" dy=\"0.6em\">200</text>\n",
       "    <text x=\"125.64\" y=\"101.19\" text-anchor=\"middle\" dy=\"0.6em\">250</text>\n",
       "  </g>\n",
       "  <g class=\"guide colorkey\" id=\"img-33f8e641-4\">\n",
       "    <g fill=\"#000000\" font-size=\"2.82\" font-family=\"Helvetica\" id=\"img-33f8e641-5\">\n",
       "      <text x=\"131.46\" y=\"52.41\" dy=\"0.35em\">Pricing error CCAPM</text>\n",
       "    </g>\n",
       "    <g fill=\"#009AFA\" stroke=\"#000000\" stroke-opacity=\"0.000\" id=\"img-33f8e641-6\">\n",
       "      <rect x=\"128.64\" y=\"51.5\" width=\"1.82\" height=\"1.82\"/>\n",
       "    </g>\n",
       "    <g fill=\"#000000\" font-size=\"3.88\" font-family=\"Helvetica\" stroke=\"#000000\" stroke-opacity=\"0.000\" id=\"img-33f8e641-7\">\n",
       "      <text x=\"128.64\" y=\"48.59\"></text>\n",
       "    </g>\n",
       "  </g>\n",
       "<g clip-path=\"url(#img-33f8e641-8)\">\n",
       "  <g id=\"img-33f8e641-9\">\n",
       "    <g pointer-events=\"visible\" opacity=\"1\" fill=\"#000000\" fill-opacity=\"0.000\" stroke=\"#000000\" stroke-opacity=\"0.000\" class=\"guide background\" id=\"img-33f8e641-10\">\n",
       "      <rect x=\"9.43\" y=\"1\" width=\"118.21\" height=\"99.19\"/>\n",
       "    </g>\n",
       "    <g class=\"guide ygridlines xfixed\" stroke-dasharray=\"0.5,0.5\" stroke-width=\"0.2\" stroke=\"#D0D0E0\" id=\"img-33f8e641-11\">\n",
       "      <path fill=\"none\" d=\"M9.43,98.19 L 127.64 98.19\"/>\n",
       "      <path fill=\"none\" d=\"M9.43,79.15 L 127.64 79.15\"/>\n",
       "      <path fill=\"none\" d=\"M9.43,60.11 L 127.64 60.11\"/>\n",
       "      <path fill=\"none\" d=\"M9.43,41.07 L 127.64 41.07\"/>\n",
       "      <path fill=\"none\" d=\"M9.43,22.04 L 127.64 22.04\"/>\n",
       "      <path fill=\"none\" d=\"M9.43,3 L 127.64 3\"/>\n",
       "    </g>\n",
       "    <g class=\"guide xgridlines yfixed\" stroke-dasharray=\"0.5,0.5\" stroke-width=\"0.2\" stroke=\"#D0D0E0\" id=\"img-33f8e641-12\">\n",
       "      <path fill=\"none\" d=\"M11.43,1 L 11.43 100.19\"/>\n",
       "      <path fill=\"none\" d=\"M34.27,1 L 34.27 100.19\"/>\n",
       "      <path fill=\"none\" d=\"M57.11,1 L 57.11 100.19\"/>\n",
       "      <path fill=\"none\" d=\"M79.95,1 L 79.95 100.19\"/>\n",
       "      <path fill=\"none\" d=\"M102.8,1 L 102.8 100.19\"/>\n",
       "      <path fill=\"none\" d=\"M125.64,1 L 125.64 100.19\"/>\n",
       "    </g>\n",
       "    <g class=\"plotpanel\" id=\"img-33f8e641-13\">\n",
       "      <g stroke-width=\"0.26\" fill=\"#000000\" fill-opacity=\"0.000\" class=\"geometry\" stroke-dasharray=\"none\" stroke=\"#009AFA\" id=\"img-33f8e641-14\">\n",
       "        <path fill=\"none\" d=\"M11.88,27.75 L 12.34 62.14 12.8 51.08 13.25 35.64 13.71 68.73 14.17 60.95 14.62 58.6 15.08 49.13 15.54 47.96 16 30.7 16.45 30.51 16.91 49.1 17.37 43.41 17.82 55.96 18.28 56.89 18.74 51.78 19.19 56.64 19.65 46.64 20.11 67.3 20.56 51.1 21.02 38.71 21.48 42.55 21.93 49.33 22.39 41.65 22.85 42.51 23.3 52.88 23.76 35.41 24.22 25.01 24.68 51.25 25.13 60.59 25.59 48.9 26.05 54.38 26.5 52.96 26.96 47.76 27.42 48.71 27.87 32.56 28.33 51.02 28.79 26.02 29.24 41.3 29.7 45.71 30.16 55.34 30.61 36.41 31.07 58.81 31.53 49.31 31.99 49.99 32.44 46.84 32.9 47.02 33.36 41.9 33.81 45.37 34.27 55.61 34.73 42.77 35.18 63.02 35.64 61.72 36.1 60.52 36.55 47.35 37.01 51.35 37.47 55.86 37.92 57.79 38.38 79.21 38.84 51.49 39.29 52.56 39.75 47.25 40.21 41.29 40.67 48.62 41.12 47.45 41.58 47.08 42.04 46.25 42.49 66.46 42.95 60.94 43.41 59.77 43.86 45.11 44.32 52.34 44.78 49.19 45.23 43.78 45.69 50.03 46.15 51.82 46.6 38.69 47.06 47.76 47.52 46.68 47.97 43.01 48.43 47.21 48.89 45.37 49.35 53.82 49.8 53.92 50.26 66.96 50.72 58.4 51.17 67.78 51.63 53.93 52.09 39.82 52.54 48.09 53 36.98 53.46 29.96 53.91 43.34 54.37 41.74 54.83 30.51 55.28 47.72 55.74 63.93 56.2 50.61 56.66 50.11 57.11 64.35 57.57 54.04 58.03 56.11 58.48 58.54 58.94 51.14 59.4 42.7 59.85 52.29 60.31 62.16 60.77 55.44 61.22 59.05 61.68 51.48 62.14 50.55 62.59 50.26 63.05 39.04 63.51 46.85 63.96 51 64.42 36.21 64.88 20.29 65.34 36.82 65.79 53.32 66.25 38.45 66.71 39.95 67.16 34.07 67.62 31.25 68.08 32 68.53 36.23 68.99 41.04 69.45 48.39 69.9 48.75 70.36 57.05 70.82 54.65 71.27 51.05 71.73 44.56 72.19 54.79 72.65 43.24 73.1 46.74 73.56 49.72 74.02 49.17 74.47 49.79 74.93 50.43 75.39 46.81 75.84 46.16 76.3 43.83 76.76 52.29 77.21 54.58 77.67 49.64 78.13 44.34 78.58 47.41 79.04 54.57 79.5 50.27 79.95 54.64 80.41 50.3 80.87 43.07 81.33 37.98 81.78 42.7 82.24 48.41 82.7 39.35 83.15 47.31 83.61 42.99 84.07 23.4 84.52 29.64 84.98 45.92 85.44 36.39 85.89 32.16 86.35 58.24 86.81 41.62 87.26 42.31 87.72 57.53 88.18 38.91 88.63 48.15 89.09 51.45 89.55 46.71 90.01 50.37 90.46 49.66 90.92 47.25 91.38 46.67 91.83 43.31 92.29 48.62 92.75 41.83 93.2 43.39 93.66 46.64 94.12 47.86 94.57 43.02 95.03 44.75 95.49 49.75 95.94 43.77 96.4 51.74 96.86 43.96 97.32 53.58 97.77 53.77 98.23 47.96 98.69 44.76 99.14 53.22 99.6 53.11 100.06 48.82 100.51 52.25 100.97 49.52 101.43 50.42 101.88 45.06 102.34 49.13 102.8 41.35 103.25 36.79 103.71 37.86 104.17 46.62 104.62 57.32\"/>\n",
       "      </g>\n",
       "    </g>\n",
       "  </g>\n",
       "</g>\n",
       "  <g class=\"guide ylabels\" font-size=\"2.82\" font-family=\"Helvetica\" fill=\"#000000\" id=\"img-33f8e641-15\">\n",
       "    <text x=\"8.43\" y=\"98.19\" text-anchor=\"end\" dy=\"0.35em\">-0.15</text>\n",
       "    <text x=\"8.43\" y=\"79.15\" text-anchor=\"end\" dy=\"0.35em\">-0.10</text>\n",
       "    <text x=\"8.43\" y=\"60.11\" text-anchor=\"end\" dy=\"0.35em\">-0.05</text>\n",
       "    <text x=\"8.43\" y=\"41.07\" text-anchor=\"end\" dy=\"0.35em\">0.00</text>\n",
       "    <text x=\"8.43\" y=\"22.04\" text-anchor=\"end\" dy=\"0.35em\">0.05</text>\n",
       "    <text x=\"8.43\" y=\"3\" text-anchor=\"end\" dy=\"0.35em\">0.10</text>\n",
       "  </g>\n",
       "</g>\n",
       "<defs>\n",
       "  <clipPath id=\"img-33f8e641-8\">\n",
       "  <path d=\"M9.43,1 L 127.64 1 127.64 100.19 9.43 100.19\" />\n",
       "</clipPath>\n",
       "</defs>\n",
       "</svg>\n"
      ],
      "text/html": [
       "<?xml version=\"1.0\" encoding=\"UTF-8\"?>\n",
       "<svg xmlns=\"http://www.w3.org/2000/svg\"\n",
       "     xmlns:xlink=\"http://www.w3.org/1999/xlink\"\n",
       "     xmlns:gadfly=\"http://www.gadflyjl.org/ns\"\n",
       "     version=\"1.2\"\n",
       "     width=\"158.73mm\" height=\"105.82mm\" viewBox=\"0 0 158.73 105.82\"\n",
       "     stroke=\"none\"\n",
       "     fill=\"#000000\"\n",
       "     stroke-width=\"0.3\"\n",
       "     font-size=\"3.88\"\n",
       ">\n",
       "<g stroke=\"#000000\" stroke-opacity=\"0.000\" fill=\"#FFFFFF\" id=\"img-33f8e641-1\">\n",
       "  <rect x=\"0\" y=\"0\" width=\"158.73\" height=\"105.82\"/>\n",
       "</g>\n",
       "<g class=\"plotroot xscalable yscalable\" id=\"img-33f8e641-2\">\n",
       "  <g class=\"guide xlabels\" font-size=\"2.82\" font-family=\"Helvetica\" fill=\"#000000\" id=\"img-33f8e641-3\">\n",
       "    <text x=\"11.43\" y=\"101.19\" text-anchor=\"middle\" dy=\"0.6em\">0</text>\n",
       "    <text x=\"34.27\" y=\"101.19\" text-anchor=\"middle\" dy=\"0.6em\">50</text>\n",
       "    <text x=\"57.11\" y=\"101.19\" text-anchor=\"middle\" dy=\"0.6em\">100</text>\n",
       "    <text x=\"79.95\" y=\"101.19\" text-anchor=\"middle\" dy=\"0.6em\">150</text>\n",
       "    <text x=\"102.8\" y=\"101.19\" text-anchor=\"middle\" dy=\"0.6em\">200</text>\n",
       "    <text x=\"125.64\" y=\"101.19\" text-anchor=\"middle\" dy=\"0.6em\">250</text>\n",
       "  </g>\n",
       "  <g class=\"guide colorkey\" id=\"img-33f8e641-4\">\n",
       "    <g fill=\"#000000\" font-size=\"2.82\" font-family=\"Helvetica\" id=\"img-33f8e641-5\">\n",
       "      <text x=\"131.46\" y=\"52.41\" dy=\"0.35em\">Pricing error CCAPM</text>\n",
       "    </g>\n",
       "    <g fill=\"#009AFA\" stroke=\"#000000\" stroke-opacity=\"0.000\" id=\"img-33f8e641-6\">\n",
       "      <rect x=\"128.64\" y=\"51.5\" width=\"1.82\" height=\"1.82\"/>\n",
       "    </g>\n",
       "    <g fill=\"#000000\" font-size=\"3.88\" font-family=\"Helvetica\" stroke=\"#000000\" stroke-opacity=\"0.000\" id=\"img-33f8e641-7\">\n",
       "      <text x=\"128.64\" y=\"48.59\"></text>\n",
       "    </g>\n",
       "  </g>\n",
       "<g clip-path=\"url(#img-33f8e641-8)\">\n",
       "  <g id=\"img-33f8e641-9\">\n",
       "    <g pointer-events=\"visible\" opacity=\"1\" fill=\"#000000\" fill-opacity=\"0.000\" stroke=\"#000000\" stroke-opacity=\"0.000\" class=\"guide background\" id=\"img-33f8e641-10\">\n",
       "      <rect x=\"9.43\" y=\"1\" width=\"118.21\" height=\"99.19\"/>\n",
       "    </g>\n",
       "    <g class=\"guide ygridlines xfixed\" stroke-dasharray=\"0.5,0.5\" stroke-width=\"0.2\" stroke=\"#D0D0E0\" id=\"img-33f8e641-11\">\n",
       "      <path fill=\"none\" d=\"M9.43,98.19 L 127.64 98.19\"/>\n",
       "      <path fill=\"none\" d=\"M9.43,79.15 L 127.64 79.15\"/>\n",
       "      <path fill=\"none\" d=\"M9.43,60.11 L 127.64 60.11\"/>\n",
       "      <path fill=\"none\" d=\"M9.43,41.07 L 127.64 41.07\"/>\n",
       "      <path fill=\"none\" d=\"M9.43,22.04 L 127.64 22.04\"/>\n",
       "      <path fill=\"none\" d=\"M9.43,3 L 127.64 3\"/>\n",
       "    </g>\n",
       "    <g class=\"guide xgridlines yfixed\" stroke-dasharray=\"0.5,0.5\" stroke-width=\"0.2\" stroke=\"#D0D0E0\" id=\"img-33f8e641-12\">\n",
       "      <path fill=\"none\" d=\"M11.43,1 L 11.43 100.19\"/>\n",
       "      <path fill=\"none\" d=\"M34.27,1 L 34.27 100.19\"/>\n",
       "      <path fill=\"none\" d=\"M57.11,1 L 57.11 100.19\"/>\n",
       "      <path fill=\"none\" d=\"M79.95,1 L 79.95 100.19\"/>\n",
       "      <path fill=\"none\" d=\"M102.8,1 L 102.8 100.19\"/>\n",
       "      <path fill=\"none\" d=\"M125.64,1 L 125.64 100.19\"/>\n",
       "    </g>\n",
       "    <g class=\"plotpanel\" id=\"img-33f8e641-13\">\n",
       "      <g stroke-width=\"0.26\" fill=\"#000000\" fill-opacity=\"0.000\" class=\"geometry\" stroke-dasharray=\"none\" stroke=\"#009AFA\" id=\"img-33f8e641-14\">\n",
       "        <path fill=\"none\" d=\"M11.88,27.75 L 12.34 62.14 12.8 51.08 13.25 35.64 13.71 68.73 14.17 60.95 14.62 58.6 15.08 49.13 15.54 47.96 16 30.7 16.45 30.51 16.91 49.1 17.37 43.41 17.82 55.96 18.28 56.89 18.74 51.78 19.19 56.64 19.65 46.64 20.11 67.3 20.56 51.1 21.02 38.71 21.48 42.55 21.93 49.33 22.39 41.65 22.85 42.51 23.3 52.88 23.76 35.41 24.22 25.01 24.68 51.25 25.13 60.59 25.59 48.9 26.05 54.38 26.5 52.96 26.96 47.76 27.42 48.71 27.87 32.56 28.33 51.02 28.79 26.02 29.24 41.3 29.7 45.71 30.16 55.34 30.61 36.41 31.07 58.81 31.53 49.31 31.99 49.99 32.44 46.84 32.9 47.02 33.36 41.9 33.81 45.37 34.27 55.61 34.73 42.77 35.18 63.02 35.64 61.72 36.1 60.52 36.55 47.35 37.01 51.35 37.47 55.86 37.92 57.79 38.38 79.21 38.84 51.49 39.29 52.56 39.75 47.25 40.21 41.29 40.67 48.62 41.12 47.45 41.58 47.08 42.04 46.25 42.49 66.46 42.95 60.94 43.41 59.77 43.86 45.11 44.32 52.34 44.78 49.19 45.23 43.78 45.69 50.03 46.15 51.82 46.6 38.69 47.06 47.76 47.52 46.68 47.97 43.01 48.43 47.21 48.89 45.37 49.35 53.82 49.8 53.92 50.26 66.96 50.72 58.4 51.17 67.78 51.63 53.93 52.09 39.82 52.54 48.09 53 36.98 53.46 29.96 53.91 43.34 54.37 41.74 54.83 30.51 55.28 47.72 55.74 63.93 56.2 50.61 56.66 50.11 57.11 64.35 57.57 54.04 58.03 56.11 58.48 58.54 58.94 51.14 59.4 42.7 59.85 52.29 60.31 62.16 60.77 55.44 61.22 59.05 61.68 51.48 62.14 50.55 62.59 50.26 63.05 39.04 63.51 46.85 63.96 51 64.42 36.21 64.88 20.29 65.34 36.82 65.79 53.32 66.25 38.45 66.71 39.95 67.16 34.07 67.62 31.25 68.08 32 68.53 36.23 68.99 41.04 69.45 48.39 69.9 48.75 70.36 57.05 70.82 54.65 71.27 51.05 71.73 44.56 72.19 54.79 72.65 43.24 73.1 46.74 73.56 49.72 74.02 49.17 74.47 49.79 74.93 50.43 75.39 46.81 75.84 46.16 76.3 43.83 76.76 52.29 77.21 54.58 77.67 49.64 78.13 44.34 78.58 47.41 79.04 54.57 79.5 50.27 79.95 54.64 80.41 50.3 80.87 43.07 81.33 37.98 81.78 42.7 82.24 48.41 82.7 39.35 83.15 47.31 83.61 42.99 84.07 23.4 84.52 29.64 84.98 45.92 85.44 36.39 85.89 32.16 86.35 58.24 86.81 41.62 87.26 42.31 87.72 57.53 88.18 38.91 88.63 48.15 89.09 51.45 89.55 46.71 90.01 50.37 90.46 49.66 90.92 47.25 91.38 46.67 91.83 43.31 92.29 48.62 92.75 41.83 93.2 43.39 93.66 46.64 94.12 47.86 94.57 43.02 95.03 44.75 95.49 49.75 95.94 43.77 96.4 51.74 96.86 43.96 97.32 53.58 97.77 53.77 98.23 47.96 98.69 44.76 99.14 53.22 99.6 53.11 100.06 48.82 100.51 52.25 100.97 49.52 101.43 50.42 101.88 45.06 102.34 49.13 102.8 41.35 103.25 36.79 103.71 37.86 104.17 46.62 104.62 57.32\"/>\n",
       "      </g>\n",
       "    </g>\n",
       "  </g>\n",
       "</g>\n",
       "  <g class=\"guide ylabels\" font-size=\"2.82\" font-family=\"Helvetica\" fill=\"#000000\" id=\"img-33f8e641-15\">\n",
       "    <text x=\"8.43\" y=\"98.19\" text-anchor=\"end\" dy=\"0.35em\">-0.15</text>\n",
       "    <text x=\"8.43\" y=\"79.15\" text-anchor=\"end\" dy=\"0.35em\">-0.10</text>\n",
       "    <text x=\"8.43\" y=\"60.11\" text-anchor=\"end\" dy=\"0.35em\">-0.05</text>\n",
       "    <text x=\"8.43\" y=\"41.07\" text-anchor=\"end\" dy=\"0.35em\">0.00</text>\n",
       "    <text x=\"8.43\" y=\"22.04\" text-anchor=\"end\" dy=\"0.35em\">0.05</text>\n",
       "    <text x=\"8.43\" y=\"3\" text-anchor=\"end\" dy=\"0.35em\">0.10</text>\n",
       "  </g>\n",
       "</g>\n",
       "<defs>\n",
       "  <clipPath id=\"img-33f8e641-8\">\n",
       "  <path d=\"M9.43,1 L 127.64 1 127.64 100.19 9.43 100.19\" />\n",
       "</clipPath>\n",
       "</defs>\n",
       "</svg>\n"
      ],
      "text/plain": [
       "Compose.SVG(158.73015873015876mm,105.82010582010584mm,IOBuffer(data=UInt8[...], readable=true, writable=true, seekable=true, append=false, size=6214, maxsize=Inf, ptr=6215, mark=-1),nothing,\"img-33f8e641\",0,Compose.SVGPropertyFrame[],Dict{Type{T},Union{Compose.Property{P<:Compose.PropertyPrimitive},Void}}(),Dict{Compose.ClipPrimitive{P<:NTuple{N,Measures.Measure}},ASCIIString}(Compose.ClipPrimitive{Tuple{Measures.Length{:mm,Float64},Measures.Length{:mm,Float64}}}([(9.426666666666662mm,1.0mm),(127.64015873015875mm,1.0mm),(127.64015873015875mm,100.1867724867725mm),(9.426666666666662mm,100.1867724867725mm)])=>\"img-33f8e641-8\"),Tuple{Compose.FormPrimitive,ASCIIString}[],Set{AbstractString}(),true,false,nothing,true,\"img-33f8e641-15\",false,15,AbstractString[\"/Users/gragusa/.julia/v0.4/Gadfly/src/gadfly.js\"],Tuple{AbstractString,AbstractString}[(\"Snap.svg\",\"Snap\"),(\"Gadfly\",\"Gadfly\")],AbstractString[\"fig.select(\\\"#img-33f8e641-4\\\")\\n   .drag(function() {}, function() {}, function() {});\",\"fig.select(\\\"#img-33f8e641-9\\\")\\n   .init_gadfly();\"],false,:none)"
      ]
     },
     "metadata": {},
     "output_type": "display_data"
    },
    {
     "data": {
      "text/html": []
     },
     "execution_count": 35,
     "metadata": {},
     "output_type": "execute_result"
    }
   ],
   "source": [
    "Plots.plot(y=Rf-1./exp(log(β) + (γ-1)*ΔC), lab = \"Pricing error CCAPM\")\n"
   ]
  },
  {
   "cell_type": "markdown",
   "metadata": {},
   "source": [
    "## Overidentification\n",
    "The objective function can be used for testing the following null hypothesis\n",
    "$$\n",
    "H_0: E[h(w_t,\\theta_0)] = 0  \n",
    "$$\n",
    "against the generic alternative\n",
    "$$\n",
    "H_1:\\left\\Vert  E[h(w_t,\\theta_0)]\\right\\Vert \\neq 0.  \n",
    "$$\n",
    "In particular, \n",
    "$$\n",
    "J(\\hat{\\theta}, W^{opt}) \\sim \\chi^2_{m-k},\n",
    "$$\n",
    "where $m$ is the number of moment resctrictions (the dimension of $q$) and $k$ is the dimension of $\\theta$. \n"
   ]
  },
  {
   "cell_type": "code",
   "execution_count": 36,
   "metadata": {
    "collapsed": false
   },
   "outputs": [
    {
     "data": {
      "text/plain": [
       "10.255501557568625"
      ]
     },
     "execution_count": 36,
     "metadata": {},
     "output_type": "execute_result"
    }
   ],
   "source": [
    "Jmin.f_minimum"
   ]
  },
  {
   "cell_type": "markdown",
   "metadata": {},
   "source": [
    "# Using a dedicated package\n",
    "\n",
    "\n",
    "`MomentBasedEstimators` is a package that handle, among other estimation techniques, GMM. THe package is written with generality in mind and this means that is quite difficult to use. This  is the usual tradeoff between power and usability. What you get back is more precise estimates, nice output and additional features. \n",
    "\n",
    "## Exactly identified model\n",
    "\n",
    "We start by the exactly identified case as above. "
   ]
  },
  {
   "cell_type": "code",
   "execution_count": null,
   "metadata": {
    "collapsed": false
   },
   "outputs": [],
   "source": [
    "Z = [ones(size(ΔC)) [NaN; ΔC[1:end-1]]]"
   ]
  },
  {
   "cell_type": "markdown",
   "metadata": {},
   "source": [
    "The initial thing to do is to instantiate the estimator"
   ]
  },
  {
   "cell_type": "markdown",
   "metadata": {},
   "source": [
    "step_1 = GMMEstimator(h, [.9, 0.], initialW = eye(2), mgr = OneStepGMM())"
   ]
  },
  {
   "cell_type": "markdown",
   "metadata": {},
   "source": [
    "`step_1` is a type `GMMEstimator` which contains the information to do the estimation. In particular, the first argument `h` passes the moment function, the second `[0.9, 0]` are the initial values, the third is passed through a keyword `initialW` is the initial weighting matrix. The third argument `mgr` is a little bit more complicated, but it basically tell whether to use a `OneStepGMM` or a `TwoStepGMM()`."
   ]
  },
  {
   "cell_type": "code",
   "execution_count": null,
   "metadata": {
    "collapsed": true
   },
   "outputs": [],
   "source": [
    "setparLB!(step_1, [0, -Inf]);\n",
    "setparUB!(step_1, [1, 1]);"
   ]
  },
  {
   "cell_type": "code",
   "execution_count": null,
   "metadata": {
    "collapsed": true
   },
   "outputs": [],
   "source": [
    "With these two commands we set the parameter lower and upper bounds. Finally we estimate the model. "
   ]
  },
  {
   "cell_type": "code",
   "execution_count": null,
   "metadata": {
    "collapsed": false
   },
   "outputs": [],
   "source": [
    "estimate!(step_1)"
   ]
  },
  {
   "cell_type": "markdown",
   "metadata": {},
   "source": [
    "Notice that the `J-test` does not make sense here (P-value = NaN), because the model is exactly identified. \n",
    "\n",
    "To obtain the second stage we can do the following"
   ]
  },
  {
   "cell_type": "code",
   "execution_count": null,
   "metadata": {
    "collapsed": true
   },
   "outputs": [],
   "source": [
    "Ω = mfvcov(step_1)   ## This calculate an estimate of Ω = E[h(w, \\theta_0)h(w_tm \\theta_0)']\n",
    "W = pinv(Ω)\n",
    "step_2 = GMMEstimator(h, coef(step_1), initialW = W, mgr = OneStepGMM())\n",
    "setparLB!(step_1, [0, -Inf]);\n",
    "setparUB!(step_1, [1, 1]);\n",
    "estimate!(step_2)"
   ]
  },
  {
   "cell_type": "markdown",
   "metadata": {
    "collapsed": true
   },
   "source": [
    "Alternatively, you can directly get the efficient two-step GMM with "
   ]
  },
  {
   "cell_type": "code",
   "execution_count": null,
   "metadata": {
    "collapsed": false
   },
   "outputs": [],
   "source": [
    "OptGMM = GMMEstimator(h, coef(step_1), initialW = W, mgr = TwoStepGMM())\n",
    "setparLB!(OptGMM, [0, -Inf]);\n",
    "setparUB!(OptGMM, [1, 1]);\n",
    "estimate!(OptGMM)"
   ]
  },
  {
   "cell_type": "code",
   "execution_count": null,
   "metadata": {
    "collapsed": true
   },
   "outputs": [],
   "source": []
  }
 ],
 "metadata": {
  "kernelspec": {
   "display_name": "Julia 0.4.3",
   "language": "julia",
   "name": "julia-0.4"
  },
  "language_info": {
   "file_extension": ".jl",
   "mimetype": "application/julia",
   "name": "julia",
   "version": "0.4.3"
  }
 },
 "nbformat": 4,
 "nbformat_minor": 0
}
